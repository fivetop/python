{
  "nbformat": 4,
  "nbformat_minor": 0,
  "metadata": {
    "colab": {
      "provenance": [],
      "authorship_tag": "ABX9TyMEReJhfbEE/J+4xcbJRM+s",
      "include_colab_link": true
    },
    "kernelspec": {
      "name": "python3",
      "display_name": "Python 3"
    },
    "language_info": {
      "name": "python"
    }
  },
  "cells": [
    {
      "cell_type": "markdown",
      "metadata": {
        "id": "view-in-github",
        "colab_type": "text"
      },
      "source": [
        "<a href=\"https://colab.research.google.com/github/fivetop/python/blob/master/LogisticRegression_Example.ipynb\" target=\"_parent\"><img src=\"https://colab.research.google.com/assets/colab-badge.svg\" alt=\"Open In Colab\"/></a>"
      ]
    },
    {
      "cell_type": "code",
      "execution_count": 22,
      "metadata": {
        "id": "Pv3QhAJjT2fh"
      },
      "outputs": [],
      "source": [
        "import numpy as np\n",
        "from datetime import datetime\n",
        "\n",
        "np.random.seed(0)"
      ]
    },
    {
      "cell_type": "code",
      "source": [
        "def numerical_derivative(f, x):\n",
        "    delta_x = 1e-4 # 0.0001\n",
        "    grad = np.zeros_like(x)\n",
        "    \n",
        "    it = np.nditer(x, flags=['multi_index'], op_flags=['readwrite'])\n",
        "    \n",
        "    while not it.finished:\n",
        "        idx = it.multi_index        \n",
        "        tmp_val = x[idx]\n",
        "        x[idx] = float(tmp_val) + delta_x\n",
        "        fx1 = f(x) # f(x+delta_x)\n",
        "        \n",
        "        x[idx] = float(tmp_val) - delta_x \n",
        "        fx2 = f(x) # f(x-delta_x)\n",
        "        grad[idx] = (fx1 - fx2) / (2*delta_x)\n",
        "        \n",
        "        x[idx] = tmp_val \n",
        "        it.iternext()   \n",
        "        \n",
        "    return grad"
      ],
      "metadata": {
        "id": "cd_FrGmPT9Z0"
      },
      "execution_count": 23,
      "outputs": []
    },
    {
      "cell_type": "code",
      "source": [
        "def sigmoid(z):\n",
        "  return 1/ (1+np.exp(-z))"
      ],
      "metadata": {
        "id": "3S6QWqhRUCcr"
      },
      "execution_count": 24,
      "outputs": []
    },
    {
      "cell_type": "code",
      "source": [
        "x_data = np.array([2, 4, 6, 8, 10, 12, 14, 16, 18, 20]).reshape(10,1)   \n",
        "t_data = np.array([0, 0, 0, 0,  0,  0,  1,  1,  1,  1]).reshape(10,1)\n",
        "\n",
        "print(\"x_data.shape = \", x_data.shape, \", t_data.shape = \", t_data.shape)"
      ],
      "metadata": {
        "colab": {
          "base_uri": "https://localhost:8080/"
        },
        "id": "76rAUP-4UU3z",
        "outputId": "ccf0498d-ed06-4cf0-b76b-fbd60d76ffbc"
      },
      "execution_count": 25,
      "outputs": [
        {
          "output_type": "stream",
          "name": "stdout",
          "text": [
            "x_data.shape =  (10, 1) , t_data.shape =  (10, 1)\n"
          ]
        }
      ]
    },
    {
      "cell_type": "code",
      "source": [
        "W = np.random.rand(1,1)  \n",
        "b = np.random.rand(1)  \n",
        "\n",
        "print(\"W = \", W, \", W.shape = \", W.shape, \", b = \", b, \", b.shape = \", b.shape)"
      ],
      "metadata": {
        "colab": {
          "base_uri": "https://localhost:8080/"
        },
        "id": "Z9ep-dj4UhDE",
        "outputId": "90c07eb8-3c66-463f-fb4f-3f08e8b71241"
      },
      "execution_count": 26,
      "outputs": [
        {
          "output_type": "stream",
          "name": "stdout",
          "text": [
            "W =  [[0.5488135]] , W.shape =  (1, 1) , b =  [0.71518937] , b.shape =  (1,)\n"
          ]
        }
      ]
    },
    {
      "cell_type": "code",
      "source": [
        "def loss_func(x, t):\n",
        "    \n",
        "    delta = 1e-7    # log 무한대 발산 방지\n",
        "    \n",
        "    z = np.dot(x, W) + b\n",
        "    y = sigmoid(z)\n",
        "    \n",
        "    # cross-entropy \n",
        "    return  (-np.sum( t*np.log(y + delta) + (1-t)*np.log((1 - y)+delta ) ) )\n",
        "    \n",
        "    #return ( np.sum( (t - y)**2 ) ) / ( len(x) )"
      ],
      "metadata": {
        "id": "R-XfEz9KUvvU"
      },
      "execution_count": 30,
      "outputs": []
    },
    {
      "cell_type": "code",
      "source": [
        "def error_val(x, t):\n",
        "    #delta = 1e-7    # log 무한대 발산 방지\n",
        "    \n",
        "    z = np.dot(x, W) + b\n",
        "    y = sigmoid(z)\n",
        "    \n",
        "    # cross-entropy \n",
        "    #return  -np.sum( t*np.log(y + delta) + (1-t)*np.log((1 - y)+delta ) ) \n",
        "    \n",
        "    return ( np.sum( (t - y)**2 ) ) / ( len(x) )"
      ],
      "metadata": {
        "id": "xRkhhPH_VdV-"
      },
      "execution_count": 31,
      "outputs": []
    },
    {
      "cell_type": "code",
      "source": [
        "learning_rate = 1e-2  # 발산하는 경우, 1e-3 ~ 1e-6 등으로 바꾸어서 실행\n",
        "\n",
        "f = lambda x : loss_func(x_data,t_data)  \n",
        "\n",
        "print(\"Initial error value = \", error_val(x_data, t_data) )\n",
        "\n",
        "start_time = datetime.now()\n",
        "\n",
        "for step in  range(100001):  \n",
        "    \n",
        "    W -= learning_rate * numerical_derivative(f, W)\n",
        "    \n",
        "    b -= learning_rate * numerical_derivative(f, b)\n",
        "    \n",
        "    if (step % 5000 == 0):\n",
        "        print(\"step = \", step, \"error value = \", error_val(x_data, t_data) )\n",
        "        \n",
        "end_time = datetime.now()\n",
        "        \n",
        "print(\"\")\n",
        "print(\"Elapsed Time => \", end_time - start_time)\n"
      ],
      "metadata": {
        "colab": {
          "base_uri": "https://localhost:8080/"
        },
        "id": "a_ngu0MgU6o7",
        "outputId": "05a741b6-b30b-4c85-8d68-4e1be256f71e"
      },
      "execution_count": 32,
      "outputs": [
        {
          "output_type": "stream",
          "name": "stdout",
          "text": [
            "Initial error value =  0.5585822639459324\n",
            "step =  0 error value =  0.4117032343207604\n",
            "step =  5000 error value =  0.01789777036194898\n",
            "step =  10000 error value =  0.011891879219888064\n",
            "step =  15000 error value =  0.008900637388926963\n",
            "step =  20000 error value =  0.007024536374691746\n",
            "step =  25000 error value =  0.005724850521309286\n",
            "step =  30000 error value =  0.004771527735107715\n",
            "step =  35000 error value =  0.004045131649623975\n",
            "step =  40000 error value =  0.0034760816237903516\n",
            "step =  45000 error value =  0.003020636130015909\n",
            "step =  50000 error value =  0.002649766060129275\n",
            "step =  55000 error value =  0.0023434051469557633\n",
            "step =  60000 error value =  0.0020872327580683777\n",
            "step =  65000 error value =  0.0018707613205239588\n",
            "step =  70000 error value =  0.001686143907148077\n",
            "step =  75000 error value =  0.0015274016993309543\n",
            "step =  80000 error value =  0.001389907354708597\n",
            "step =  85000 error value =  0.0012700301745634896\n",
            "step =  90000 error value =  0.0011648867817820546\n",
            "step =  95000 error value =  0.0010721624431380234\n",
            "step =  100000 error value =  0.0009899807840100744\n",
            "\n",
            "Elapsed Time =>  0:00:14.111733\n"
          ]
        }
      ]
    },
    {
      "cell_type": "code",
      "source": [
        "# 학습을 마친 후, 임의의 데이터에 대해 미래 값 예측 함수\n",
        "# 입력변수 test_data : numpy type\n",
        "def predict(test_data):\n",
        "    \n",
        "    z = np.dot(test_data, W) + b\n",
        "    y = sigmoid(z)\n",
        "    \n",
        "    if y >= 0.5:\n",
        "        result = 1  # True\n",
        "    else:\n",
        "        result = 0  # False\n",
        "    \n",
        "    return y, result"
      ],
      "metadata": {
        "id": "FKMcrkCRVFP7"
      },
      "execution_count": 33,
      "outputs": []
    },
    {
      "cell_type": "code",
      "source": [
        "test_data = np.array([13.0])\n",
        "\n",
        "(real_val, logical_val) = predict(test_data)\n",
        "\n",
        "print(real_val, logical_val)"
      ],
      "metadata": {
        "colab": {
          "base_uri": "https://localhost:8080/"
        },
        "id": "hjBQbiTjVsZr",
        "outputId": "b05deab1-4651-486e-b2f8-731385c11643"
      },
      "execution_count": 34,
      "outputs": [
        {
          "output_type": "stream",
          "name": "stdout",
          "text": [
            "[0.52082848] 1\n"
          ]
        }
      ]
    },
    {
      "cell_type": "code",
      "source": [],
      "metadata": {
        "id": "OyivIiUpVwUj"
      },
      "execution_count": null,
      "outputs": []
    }
  ]
}