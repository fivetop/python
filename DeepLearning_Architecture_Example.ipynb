{
  "nbformat": 4,
  "nbformat_minor": 0,
  "metadata": {
    "colab": {
      "provenance": [],
      "authorship_tag": "ABX9TyPS4/r/xJgruV0nPwyhYbxT",
      "include_colab_link": true
    },
    "kernelspec": {
      "name": "python3",
      "display_name": "Python 3"
    },
    "language_info": {
      "name": "python"
    }
  },
  "cells": [
    {
      "cell_type": "markdown",
      "metadata": {
        "id": "view-in-github",
        "colab_type": "text"
      },
      "source": [
        "<a href=\"https://colab.research.google.com/github/fivetop/python/blob/master/DeepLearning_Architecture_Example.ipynb\" target=\"_parent\"><img src=\"https://colab.research.google.com/assets/colab-badge.svg\" alt=\"Open In Colab\"/></a>"
      ]
    },
    {
      "cell_type": "code",
      "execution_count": 1,
      "metadata": {
        "colab": {
          "base_uri": "https://localhost:8080/"
        },
        "id": "jbWNJCmyUo5e",
        "outputId": "e634386a-de1c-4392-a5b7-ddcadafc0ac2"
      },
      "outputs": [
        {
          "output_type": "stream",
          "name": "stdout",
          "text": [
            "W2 =  [[0.32210302 0.88121454]\n",
            " [0.36598095 0.36675616]] , W2.shape =  (2, 2)\n",
            "b2 =  [0.61888641 0.99227044] , b2.shape =  (2,)\n",
            "W3 =  [[0.62143195 0.01804872]\n",
            " [0.84505007 0.37762439]] , W3.shape =  (2, 2)\n",
            "b3 =  [0.24382626 0.26989118] , b3.shape =  (2,)\n"
          ]
        }
      ],
      "source": [
        "import numpy as np\n",
        "# 활성화함수 sigmoid\n",
        "def sigmoid(x):\n",
        "    \n",
        "    return 1 / (1 + np.exp(-x))\n",
        "\n",
        "input_data = np.array([ [1, 1], [4, 3] ])\n",
        "target_data = np.array([ 0, 1 ])\n",
        "\n",
        "input_nodes = 2    # 입력노드\n",
        "hidden_nodes = 2   # 은닉노드\n",
        "output_nodes = 2   # 출력노드\n",
        "\n",
        "W2 = np.random.rand(input_nodes, hidden_nodes)\n",
        "b2 = np.random.rand(hidden_nodes)\n",
        "\n",
        "W3 = np.random.rand(hidden_nodes, output_nodes)\n",
        "b3 = np.random.rand(output_nodes)\n",
        "\n",
        "print(\"W2 = \", W2, \", W2.shape = \", W2.shape)\n",
        "print(\"b2 = \", b2, \", b2.shape = \", b2.shape)\n",
        "print(\"W3 = \", W3, \", W3.shape = \", W3.shape)\n",
        "print(\"b3 = \", b3, \", b3.shape = \", b3.shape)\n"
      ]
    },
    {
      "cell_type": "code",
      "source": [
        "\n",
        "input_data = np.array([ [1, 2, 3, 4], [0, 1, 2, 0], [0, 0, 1, 1] ])\n",
        "target_data = np.array([ 0, 1, 0 ])\n",
        "\n",
        "input_nodes = 4    # 입력노드\n",
        "hidden_nodes = 2   # 은닉노드\n",
        "output_nodes = 2   # 출력노드\n",
        "\n",
        "W2 = np.random.rand(input_nodes, hidden_nodes)\n",
        "b2 = np.random.rand(hidden_nodes)\n",
        "\n",
        "W3 = np.random.rand(hidden_nodes, output_nodes)\n",
        "b3 = np.random.rand(output_nodes)\n",
        "\n",
        "print(\"W2 = \", W2, \", W2.shape = \", W2.shape)\n",
        "print(\"b2 = \", b2, \", b2.shape = \", b2.shape)\n",
        "print(\"W3 = \", W3, \", W3.shape = \", W3.shape)\n",
        "print(\"b3 = \", b3, \", b3.shape = \", b3.shape)\n"
      ],
      "metadata": {
        "colab": {
          "base_uri": "https://localhost:8080/"
        },
        "id": "SfcgXj9iVViM",
        "outputId": "41e01fc9-a021-46e6-b514-2a6310dd3102"
      },
      "execution_count": 2,
      "outputs": [
        {
          "output_type": "stream",
          "name": "stdout",
          "text": [
            "W2 =  [[0.50433553 0.25967017]\n",
            " [0.56300604 0.01245319]\n",
            " [0.2609013  0.80218749]\n",
            " [0.61459935 0.70032484]] , W2.shape =  (4, 2)\n",
            "b2 =  [0.6030417  0.06811989] , b2.shape =  (2,)\n",
            "W3 =  [[0.49801913 0.31277913]\n",
            " [0.94502017 0.90176438]] , W3.shape =  (2, 2)\n",
            "b3 =  [0.26477438 0.03515461] , b3.shape =  (2,)\n"
          ]
        }
      ]
    }
  ]
}