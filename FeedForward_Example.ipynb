{
  "nbformat": 4,
  "nbformat_minor": 0,
  "metadata": {
    "colab": {
      "provenance": [],
      "authorship_tag": "ABX9TyOQc7c1u6XGFJS9grLRJENI",
      "include_colab_link": true
    },
    "kernelspec": {
      "name": "python3",
      "display_name": "Python 3"
    },
    "language_info": {
      "name": "python"
    }
  },
  "cells": [
    {
      "cell_type": "markdown",
      "metadata": {
        "id": "view-in-github",
        "colab_type": "text"
      },
      "source": [
        "<a href=\"https://colab.research.google.com/github/fivetop/python/blob/master/FeedForward_Example.ipynb\" target=\"_parent\"><img src=\"https://colab.research.google.com/assets/colab-badge.svg\" alt=\"Open In Colab\"/></a>"
      ]
    },
    {
      "cell_type": "code",
      "execution_count": 1,
      "metadata": {
        "colab": {
          "base_uri": "https://localhost:8080/"
        },
        "id": "qUh7axNXgET8",
        "outputId": "5b2fde70-84a8-45ec-c139-ea533d99c874"
      },
      "outputs": [
        {
          "output_type": "stream",
          "name": "stdout",
          "text": [
            "W2 =  [[0.40462321 0.33302395 0.08528704]\n",
            " [0.67230967 0.17468189 0.59062755]] , W2.shape =  (2, 3)\n",
            "b2 =  [0.99204568 0.09059232 0.73527033] , b2.shape =  (3,)\n",
            "W3 =  [[0.29788556]\n",
            " [0.30560992]\n",
            " [0.2540531 ]] , W3.shape =  (3, 1)\n",
            "b3 =  [0.26350181] , b3.shape =  (1,)\n"
          ]
        }
      ],
      "source": [
        "import numpy as np\n",
        "\n",
        "# 활성화함수 sigmoid\n",
        "def sigmoid(x):\n",
        "    \n",
        "    return 1 / (1 + np.exp(-x))\n",
        "\n",
        "input_data = np.array([1, 2])    # 입력데이터\n",
        "target_data = np.array([1])      # 정답데이터\n",
        "\n",
        "input_nodes = 2    # 입력노드\n",
        "hidden_nodes = 3   # 은닉노드\n",
        "output_nodes = 1   # 출력노드\n",
        "\n",
        "W2 = np.random.rand(input_nodes, hidden_nodes)\n",
        "b2 = np.random.rand(hidden_nodes)\n",
        "\n",
        "W3 = np.random.rand(hidden_nodes, output_nodes)\n",
        "b3 = np.random.rand(output_nodes)\n",
        "\n",
        "print(\"W2 = \", W2, \", W2.shape = \", W2.shape)\n",
        "print(\"b2 = \", b2, \", b2.shape = \", b2.shape)\n",
        "print(\"W3 = \", W3, \", W3.shape = \", W3.shape)\n",
        "print(\"b3 = \", b3, \", b3.shape = \", b3.shape)\n",
        "\n"
      ]
    },
    {
      "cell_type": "code",
      "source": [
        "def feed_forward(xdata):\n",
        "    \n",
        "    Z2 = np.dot(xdata, W2) + b2\n",
        "    \n",
        "    print(\"[feed_forward function]\\n\")\n",
        "    \n",
        "    print(\"Z2 = \", Z2)\n",
        "    \n",
        "    A2 = sigmoid(Z2)\n",
        "    \n",
        "    print(\"A2 = \", A2)\n",
        "    \n",
        "    Z3 = np.dot(A2, W3) + b3\n",
        "    \n",
        "    print(\"Z3 = \", Z3)\n",
        "    \n",
        "    Y = A3 = sigmoid(Z3)\n",
        "    \n",
        "    print(\"Y = \", Y, \", A3 = \", A3)\n",
        "    \n",
        "    loss = np.sum((target_data-Y)**2) / (1)\n",
        "    \n",
        "    print('current loss val = ', loss)\n",
        "    \n",
        "    print(\"\\n[feed_forward function]\\n\")\n",
        "        \n",
        "    return loss\n",
        "\n",
        "loss_val = feed_forward(input_data)\n"
      ],
      "metadata": {
        "colab": {
          "base_uri": "https://localhost:8080/"
        },
        "id": "49I0Y3wcghUK",
        "outputId": "6a5d1f77-5cf0-4d23-c670-b9a8512902aa"
      },
      "execution_count": 2,
      "outputs": [
        {
          "output_type": "stream",
          "name": "stdout",
          "text": [
            "[feed_forward function]\n",
            "\n",
            "Z2 =  [2.74128824 0.77298005 2.00181247]\n",
            "A2 =  [0.93941945 0.68416519 0.88098724]\n",
            "Z3 =  [0.9762465]\n",
            "Y =  [0.72636281] , A3 =  [0.72636281]\n",
            "current loss val =  0.07487731409007665\n",
            "\n",
            "[feed_forward function]\n",
            "\n"
          ]
        }
      ]
    },
    {
      "cell_type": "code",
      "source": [],
      "metadata": {
        "id": "nBcBIIWVgmvQ"
      },
      "execution_count": null,
      "outputs": []
    }
  ]
}