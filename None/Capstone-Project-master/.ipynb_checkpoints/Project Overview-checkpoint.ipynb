{
 "cells": [
  {
   "cell_type": "markdown",
   "metadata": {},
   "source": [
    "# Machine Learning for Day Trading"
   ]
  },
  {
   "cell_type": "markdown",
   "metadata": {},
   "source": [
    "## Capstone Project"
   ]
  },
  {
   "cell_type": "markdown",
   "metadata": {},
   "source": [
    "Please fill out:\n",
    "* Student name: Arseniy Tyurin\n",
    "* Student pace: self paced\n",
    "* Scheduled project review date/time: 11/11/19, 5:00PM (GMT-5)\n",
    "* Instructor name: Eli Thomas\n",
    "* Blog post URL: <a href=\"https://towardsdatascience.com/machine-learning-for-day-trading-27c08274df54\" target=\"_blank\">Machine Learning for Day Trading</a>\n"
   ]
  },
  {
   "cell_type": "markdown",
   "metadata": {},
   "source": [
    "# Introduction"
   ]
  },
  {
   "cell_type": "markdown",
   "metadata": {},
   "source": [
    "Day trading is speculation in securities, specifically buying and selling financial instruments within the same trading day, such that all positions are closed before the market closes for the trading day. Traders who trade in this capacity with the motive of profit are therefore speculators."
   ]
  },
  {
   "cell_type": "markdown",
   "metadata": {},
   "source": [
    "The project is broken down into 3 sections.\n",
    "All the steps described here\n",
    "For detailed information please refer to separate file."
   ]
  },
  {
   "cell_type": "markdown",
   "metadata": {},
   "source": [
    "## Fundamentals"
   ]
  },
  {
   "cell_type": "markdown",
   "metadata": {},
   "source": [
    "### Value of the company:\n",
    "- Intrinsic value (estimated by future dividends)\n",
    "- Book value (assets of the company owns)\n",
    "- Market value (stock on the market)"
   ]
  },
  {
   "cell_type": "markdown",
   "metadata": {},
   "source": [
    "### Technical Analysis\n",
    "\n",
    "#### 1. When is technical analysis effective:\n",
    "- Individual indicators weak\n",
    "- Combinations stronger\n",
    "- Look for contrasts (stock vs market)\n",
    "- Shorter time periods\n",
    "\n",
    "#### 2. When does technical analysis have value?\n",
    "- Short periods of time (from milliseconds to days)\n",
    "\n",
    "#### 3. How to test the model?\n",
    "- Backtesting"
   ]
  },
  {
   "cell_type": "markdown",
   "metadata": {},
   "source": [
    "### Efficient Markets Hypothesis\n",
    "\n",
    "The efficient-market hypothesis (EMH) is a hypothesis in financial economics that states that asset prices reflect all available information. A direct implication is that it is impossible to \"beat the market\" consistently on a risk-adjusted basis since market prices should only react to new information.\n",
    "\n",
    "    - Large number of investors\n",
    "    - New information arrives randomly\n",
    "    - Prices adjust quickly\n",
    "    - Prices reflect all available information"
   ]
  },
  {
   "cell_type": "markdown",
   "metadata": {},
   "source": [
    "### Where does information come from\n",
    "    - Price/volume\n",
    "    - Fundamental\n",
    "    - Exogenous (information about the world that affects stock price)\n",
    "    - Company insiders"
   ]
  },
  {
   "cell_type": "markdown",
   "metadata": {},
   "source": [
    "### Types of analysis:\n",
    "    - fundamental (price is below its value)\n",
    "    - technical:\n",
    "        - historical data and volume only\n",
    "        - compute statistics called indicators (momentum, simple moving average, bollinger bands)\n",
    "        - indicators are heuristics"
   ]
  },
  {
   "cell_type": "markdown",
   "metadata": {},
   "source": [
    "# 1. Features Engineering"
   ]
  },
  {
   "cell_type": "markdown",
   "metadata": {},
   "source": [
    "Data was downloaded from <a href=\"https://finance.yahoo.com\">Yahoo Finance</a> via `pandas datareader`"
   ]
  },
  {
   "cell_type": "markdown",
   "metadata": {},
   "source": [
    "<img src=\"images/tsla.png\" alt=\"TSLA\" width=\"600\" />"
   ]
  },
  {
   "cell_type": "markdown",
   "metadata": {},
   "source": [
    "Data provides daily information about stock price and volume."
   ]
  },
  {
   "cell_type": "markdown",
   "metadata": {},
   "source": [
    "### Technical Indicators\n",
    "- **Moving Average** (lagging) analyze whether a market is moving up, down, or sideways over time.\n",
    "- **Bollinger Bands** (lagging) measure how far a price swing will stretch before a counter impulse triggers a retracement.\n",
    "- **Relative strength indicators** (leading) measure oscillations in buying and selling pressure.\n",
    "- **MACD** (leading) evaluate the speed of price change over time.\n",
    "- **Volume** indicators (leading or lagging) tally up trades and quantify whether bulls or bear are in control."
   ]
  },
  {
   "cell_type": "markdown",
   "metadata": {},
   "source": [
    "<img src=\"images/tsla_ti.png\" alt=\"TSLA\" />"
   ]
  },
  {
   "cell_type": "markdown",
   "metadata": {},
   "source": [
    "# 2. Exploratory Analysis"
   ]
  },
  {
   "cell_type": "markdown",
   "metadata": {},
   "source": [
    "<img src=\"images/bb.png\" alt=\"Bollinger Bands\" />\n",
    "<img src=\"images/macd.png\" alt=\"MACD\" />\n",
    "<img src=\"images/rsi.png\" alt=\"RSI\" />"
   ]
  },
  {
   "cell_type": "markdown",
   "metadata": {},
   "source": [
    "<img src=\"images/stocks_return.png\" alt=\"Stocks Return\" />"
   ]
  },
  {
   "cell_type": "markdown",
   "metadata": {},
   "source": [
    "# 3. Machine Learning"
   ]
  },
  {
   "cell_type": "markdown",
   "metadata": {},
   "source": [
    "## 3.1 Baseline Model"
   ]
  },
  {
   "cell_type": "markdown",
   "metadata": {},
   "source": [
    "Baseline models is a benchmark for evaluation of more complex models. Baseline model predict next day stock return "
   ]
  },
  {
   "cell_type": "markdown",
   "metadata": {},
   "source": [
    "<img src=\"images/baseline_model.png\" alt=\"Baseline Model Accuracy\" />"
   ]
  },
  {
   "cell_type": "markdown",
   "metadata": {},
   "source": [
    "## 3.2 ARIMA"
   ]
  },
  {
   "cell_type": "markdown",
   "metadata": {},
   "source": [
    "<img src=\"images/arima.png\" alt=\"ARIMA Predictions\" />"
   ]
  },
  {
   "cell_type": "markdown",
   "metadata": {},
   "source": [
    "## 3.3 Sentiment Analysis"
   ]
  },
  {
   "cell_type": "markdown",
   "metadata": {},
   "source": [
    "<img src=\"images/news_sentiment.png\" alt=\"Tesla News Sentiment\" />"
   ]
  },
  {
   "cell_type": "markdown",
   "metadata": {},
   "source": [
    "## 3.4 XGBOOST"
   ]
  },
  {
   "cell_type": "markdown",
   "metadata": {},
   "source": [
    "<img src=\"images/fe.png\" alt=\"Features Importance\" />"
   ]
  },
  {
   "cell_type": "markdown",
   "metadata": {},
   "source": [
    "## 3.5.1 LSTM"
   ]
  },
  {
   "cell_type": "markdown",
   "metadata": {},
   "source": [
    "<img src=\"images/lstm_preds.png\" alt=\"LSTM\" />"
   ]
  },
  {
   "cell_type": "markdown",
   "metadata": {},
   "source": [
    "## 3.4.2 Convolutional Neural Network"
   ]
  },
  {
   "cell_type": "markdown",
   "metadata": {},
   "source": [
    "<img src=\"images/conv_summary.png\" width=\"600\" alt=\"\" />\n",
    "<img src=\"images/conv_predictions.png\" alt=\"\" />"
   ]
  },
  {
   "cell_type": "markdown",
   "metadata": {},
   "source": [
    "## 3.5.4 18 Stocks"
   ]
  },
  {
   "cell_type": "markdown",
   "metadata": {},
   "source": [
    "<img src=\"images/all_stocks.png\" alt=\"CONV on all stocks\" />"
   ]
  },
  {
   "cell_type": "markdown",
   "metadata": {},
   "source": [
    "## 3.5.4 Bayesian Optimization"
   ]
  },
  {
   "cell_type": "markdown",
   "metadata": {},
   "source": [
    "<img src=\"images/bo.png\" width=\"600\" alt=\"Bayesian Optimization\" />"
   ]
  },
  {
   "cell_type": "markdown",
   "metadata": {},
   "source": [
    "## 3.6 Finding Similar Patterns"
   ]
  },
  {
   "cell_type": "markdown",
   "metadata": {},
   "source": [
    "<img src=\"images/pattern_recognition.png\" alt=\"\" />\n",
    "<img src=\"images/found_patterns.png\" alt=\"\" />"
   ]
  },
  {
   "cell_type": "markdown",
   "metadata": {},
   "source": [
    "Accuracy 50%"
   ]
  },
  {
   "cell_type": "markdown",
   "metadata": {},
   "source": [
    "## 3.7 Q-Learning"
   ]
  },
  {
   "cell_type": "markdown",
   "metadata": {},
   "source": [
    "### 3.7.1 MACD"
   ]
  },
  {
   "cell_type": "markdown",
   "metadata": {},
   "source": [
    "<img src=\"images/tsla_macd_trading.png\" style=\"width:90%;\" alt=\"Tesla Trading History\" />\n",
    "<img src=\"images/tsla_macd.png\" style=\"width:90%;\" alt=\"Tesla Trading History\" />"
   ]
  },
  {
   "cell_type": "markdown",
   "metadata": {},
   "source": [
    "### 3.7.2 Bollinger Bands"
   ]
  },
  {
   "cell_type": "markdown",
   "metadata": {},
   "source": [
    "<img src=\"images/tsla_bb_trading.png\" style=\"width:90%;\" alt=\"Tesla Trading History\" />"
   ]
  },
  {
   "cell_type": "markdown",
   "metadata": {},
   "source": [
    "# Conclusion"
   ]
  },
  {
   "cell_type": "markdown",
   "metadata": {},
   "source": [
    "- ARIMA model can't surpass baseline model accuracy due to the historical data stochastic behaviour.\n",
    "- Convolutional model prone to overfitting, resulting on very good accuracy on training set, and extremely poor accuracy on testing set.\n",
    "- Recurrent (LSTM) neural network can't learn from training data, averaging on 50% accuracy both on training and testing data\n",
    "- Bayesian optimization didn't improve accuracy of convolutional network\n",
    "- Neural Network architecture and complexity doesn't affect results of the model performance\n",
    "- Predictions based on matching patterns from testing data with patterns from testing didn't surpass 50% accuracy\n",
    "- **Q-Learning showed good results for short term investment, especially Bollinger Bands**"
   ]
  },
  {
   "cell_type": "markdown",
   "metadata": {},
   "source": [
    "# Future Work"
   ]
  },
  {
   "cell_type": "markdown",
   "metadata": {},
   "source": [
    "- Incorporate fundamental analysis with historical data\n",
    "- Add recommendations from trading platforms\n",
    "- Use twitter as a supplement to news data\n",
    "- Expand analysis to stock from different industries\n",
    "- Add more rules to swing trading strategy with technical indicators"
   ]
  },
  {
   "cell_type": "markdown",
   "metadata": {},
   "source": [
    "# References"
   ]
  },
  {
   "cell_type": "markdown",
   "metadata": {},
   "source": [
    "- [1] <a href=\"https://www.investopedia.com/articles/basics/04/100804.asp\" target=\"_blank\">Forces That Move Stock Prices</a>\n",
    "- [2] <a href=\"https://machinelearningmastery.com/how-to-develop-lstm-models-for-time-series-forecasting/\" target=\"_blank\">How to Develop LSTM Models for Time Series Forecasting</a>\n",
    "- [3] <a href=\"https://www.udacity.com/course/machine-learning-for-trading--ud501\">Udacity: Machine Learning for Trading (Free Course)</a>\n",
    "- [4] <a href=\"https://www.investopedia.com/articles/technical/081501.asp\" target=\"_blank\">Momentum Indicates Stock Price Strength</a>\n",
    "- [5] <a href=\"https://people.duke.edu/~rnau/arimrule.htm\" target=\"_blank\">Rules for identifying ARIMA models</a>\n",
    "- [6] <a href=\"https://www.dlology.com/blog/how-to-do-hyperparameter-search-with-baysian-optimization-for-keras-model/\" target=\"_blank\">Bayesian Optimization for Keras Model</a>"
   ]
  }
 ],
 "metadata": {
  "kernelspec": {
   "display_name": "Python 3",
   "language": "python",
   "name": "python3"
  },
  "language_info": {
   "codemirror_mode": {
    "name": "ipython",
    "version": 3
   },
   "file_extension": ".py",
   "mimetype": "text/x-python",
   "name": "python",
   "nbconvert_exporter": "python",
   "pygments_lexer": "ipython3",
   "version": "3.7.4"
  }
 },
 "nbformat": 4,
 "nbformat_minor": 2
}
