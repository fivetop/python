{
 "cells": [
  {
   "cell_type": "markdown",
   "metadata": {},
   "source": [
    "## Summary\n",
    "* Stock prices are driven by a variety of factors, but ultimately the price at any given moment is due to the supply and demand at that point in time in the market.\n",
    "* Fundamental factors drive stock prices based on a company's earnings and profitability from producing and selling goods and services.\n",
    "* Technical factors relate to a stock's price history in the market pertaining to chart patterns, momentum, and behavioral factors of traders and investors."
   ]
  },
  {
   "cell_type": "markdown",
   "metadata": {},
   "source": [
    "## Fundamental Factors\n",
    "\n",
    "* An earnings base, such as earnings per share (EPS)\n",
    "* A valuation multiple, such as a P/E ratio"
   ]
  },
  {
   "cell_type": "markdown",
   "metadata": {},
   "source": [
    "## Technical Factors\n",
    "Things would be easier if only fundamental factors set stock prices. Technical factors are the mix of external conditions that alter the supply of and demand for a company's stock. Some of these indirectly affect fundamentals. For example, economic growth indirectly contributes to earnings growth."
   ]
  },
  {
   "cell_type": "markdown",
   "metadata": {},
   "source": [
    "### Inflation\n",
    "We mentioned it earlier as an input into the valuation multiple, but inflation is a huge driver from a technical perspective as well. Historically, low inflation has had a strong inverse correlation with valuations (low inflation drives high multiples and high inflation drives low multiples). Deflation, on the other hand, is generally bad for stocks because it signifies a loss in pricing power for companies. \n",
    "\n",
    "### Economic Strength of Market and Peers\n",
    "Company stocks tend to track with the market and with their sector or industry peers. Some prominent investment firms argue that the combination of overall market and sector movements—as opposed to a company's individual performance—determines a majority of a stock's movement. (Research has suggested the economic/market factors account for 90 percent of it.) For example, a suddenly negative outlook for one retail stock often hurts other retail stocks as \"guilt by association\" drags down demand for the whole sector.\n",
    "\n",
    "### Substitutes\n",
    "Companies compete for investment dollars with other asset classes on a global stage. These include corporate bonds, government bonds, commodities, real estate, and foreign equities. The relationship between demand for U.S. equities and their substitutes is hard to figure, but it plays an important role.\n",
    "\n",
    "### Incidental Transactions\n",
    "Incidental transactions are purchases or sales of a stock that are motivated by something other than belief in the intrinsic value of the stock. These transactions include executive insider transactions, which are often pre-scheduled or driven by portfolio objectives. Another example is an institution buying or shorting a stock to hedge some other investment. Although these transactions may not represent official \"votes cast\" for or against the stock, they do impact supply and demand and, therefore, can move the price.\n",
    "\n",
    "### Demographics\n",
    "Some important research has been done about the demographics of investors. Much of it concerns these two dynamics:\n",
    "\n",
    "Middle-aged investors, peak earners who tend to invest in the stock market\n",
    "Older investors, who tend to pull out of the market in order to meet the demands of retirement\n",
    "The hypothesis is that the greater the proportion of middle-aged investors among the investing population, the greater the demand for equities and the higher the valuation multiples. \n",
    "\n",
    "### Trends\n",
    "Often a stock simply moves according to a short-term trend. On the one hand, a stock that is moving up can gather momentum, as \"success breeds success\" and popularity buoys the stock higher. On the other hand, a stock sometimes behaves the opposite way in a trend and does what is called reverting to the mean. Unfortunately, because trends cut both ways and are more obvious in hindsight, knowing that stocks are \"trendy\" does not help us predict the future.\n",
    "\n",
    "### Liquidity\n",
    "Liquidity is an important and sometimes under-appreciated factor. It refers to how much interest from investors a specific stock attracts. Wal-Mart's stock, for example, is highly liquid and therefore highly responsive to material news; the average small-cap company is less so. Trading volume is not only a proxy for liquidity, but it is also a function of corporate communications (that is, the degree to which the company is getting attention from the investor community). Large-cap stocks have high liquidity—they are well followed and heavily transacted. Many small-cap stocks suffer from an almost permanent \"liquidity discount\" because they simply are not on investors' radar screens. "
   ]
  },
  {
   "cell_type": "markdown",
   "metadata": {},
   "source": [
    "## News\n",
    "While it is hard to quantify the impact of news or unexpected developments inside a company, industry or the global economy, you can't argue that it does influence investor sentiment. The political situation, negotiations between countries or companies, product breakthroughs, mergers and acquisitions and other unforeseen events can impact stocks and the stock market. Since securities trading happens across the world and markets and economies are interconnected, news in one country can impact investors in another, almost instantly.\n",
    "\n",
    "## Market Sentiment\n",
    "Market sentiment refers to the psychology of market participants, individually and collectively. This is perhaps the most vexing category. Market sentiment is often subjective, biased, and obstinate. For example, you can make a solid judgment about a stock's future growth prospects, and the future may even confirm your projections, but in the meantime, the market may myopically dwell on a single piece of news that keeps the stock artificially high or low. And you can sometimes wait a long time in the hope that other investors will notice the fundamentals. \n",
    "\n",
    "Market sentiment is being explored by the relatively new field of behavioral finance. It starts with the assumption that markets are apparently not efficient much of the time, and this inefficiency can be explained by psychology and other social science disciplines. The idea of applying social science to finance was fully legitimized when Daniel Kahneman, PhD, a psychologist, won the 2002 Nobel Memorial Prize in Economic Sciences (the first psychologist to do so). Many of the ideas in behavioral finance confirm observable suspicions: that investors tend to overemphasize data that come easily to mind; that many investors react with greater pain to losses than with pleasure to equivalent gains; and that investors tend to persist in a mistake."
   ]
  }
 ],
 "metadata": {
  "kernelspec": {
   "display_name": "Python 3",
   "language": "python",
   "name": "python3"
  },
  "language_info": {
   "codemirror_mode": {
    "name": "ipython",
    "version": 3
   },
   "file_extension": ".py",
   "mimetype": "text/x-python",
   "name": "python",
   "nbconvert_exporter": "python",
   "pygments_lexer": "ipython3",
   "version": "3.7.4"
  }
 },
 "nbformat": 4,
 "nbformat_minor": 2
}
